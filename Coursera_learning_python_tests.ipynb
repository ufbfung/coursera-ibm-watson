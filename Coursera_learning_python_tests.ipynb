{
  "nbformat": 4,
  "nbformat_minor": 0,
  "metadata": {
    "colab": {
      "name": "Coursera-learning-python-tests.ipynb",
      "provenance": [],
      "collapsed_sections": [],
      "authorship_tag": "ABX9TyNUTCJFdePninS4vfa6Jhah",
      "include_colab_link": true
    },
    "kernelspec": {
      "name": "python3",
      "display_name": "Python 3"
    },
    "language_info": {
      "name": "python"
    }
  },
  "cells": [
    {
      "cell_type": "markdown",
      "metadata": {
        "id": "view-in-github",
        "colab_type": "text"
      },
      "source": [
        "<a href=\"https://colab.research.google.com/github/ufbfung/coursera-ibm-watson/blob/master/Coursera_learning_python_tests.ipynb\" target=\"_parent\"><img src=\"https://colab.research.google.com/assets/colab-badge.svg\" alt=\"Open In Colab\"/></a>"
      ]
    },
    {
      "cell_type": "code",
      "execution_count": null,
      "metadata": {
        "colab": {
          "base_uri": "https://localhost:8080/"
        },
        "id": "iRrYMzItY6As",
        "outputId": "4f162a1a-b547-4f96-b0e7-23d79472caff"
      },
      "outputs": [
        {
          "output_type": "execute_result",
          "data": {
            "text/plain": [
              "{'heartfailure': 374, 'dementia': 474}"
            ]
          },
          "metadata": {},
          "execution_count": 3
        }
      ],
      "source": [
        "data_dictionary_test={\"heartfailure\":374,\"dementia\":474}\n",
        "data_dictionary_test"
      ]
    },
    {
      "cell_type": "code",
      "source": [
        "# This is a data dictionary with \"keys\" and \"values\"\n",
        "data_dictionary_example={\"key1\":1957,\"key2\":1958}\n",
        "data_dictionary_example"
      ],
      "metadata": {
        "id": "PuieHIBJZD8K",
        "colab": {
          "base_uri": "https://localhost:8080/"
        },
        "outputId": "7e0bb279-2d91-4b7b-b9b2-977025d81351"
      },
      "execution_count": null,
      "outputs": [
        {
          "output_type": "execute_result",
          "data": {
            "text/plain": [
              "{'key1': 1957, 'key2': 1958}"
            ]
          },
          "metadata": {},
          "execution_count": 8
        }
      ]
    },
    {
      "cell_type": "code",
      "source": [
        "# This is an example of a tuple. Tuples are IMMUTABLE.\n",
        "tuple_example=(5,6,7,8)\n",
        "tuple_example"
      ],
      "metadata": {
        "colab": {
          "base_uri": "https://localhost:8080/"
        },
        "id": "NZmkczLpb4js",
        "outputId": "48a94134-15db-46d0-ce90-02ed1aaff799"
      },
      "execution_count": null,
      "outputs": [
        {
          "output_type": "execute_result",
          "data": {
            "text/plain": [
              "(5, 6, 7, 8)"
            ]
          },
          "metadata": {},
          "execution_count": 9
        }
      ]
    },
    {
      "cell_type": "code",
      "source": [
        "# This is an example of a list. Lists are MUTABLE.\n",
        "list_example=[5,6,7,8]\n",
        "list_example"
      ],
      "metadata": {
        "colab": {
          "base_uri": "https://localhost:8080/"
        },
        "id": "c_IiI8sEccff",
        "outputId": "9028b657-3006-4f3a-fdef-ca4473baa795"
      },
      "execution_count": null,
      "outputs": [
        {
          "output_type": "execute_result",
          "data": {
            "text/plain": [
              "[5, 6, 7, 8]"
            ]
          },
          "metadata": {},
          "execution_count": 10
        }
      ]
    },
    {
      "cell_type": "code",
      "source": [
        "# This is an example of a set. These are UNORDERED and all elements are UNIQUE.\n",
        "set_example={\"A\",\"B\",\"C\"} \n",
        "set_example"
      ],
      "metadata": {
        "colab": {
          "base_uri": "https://localhost:8080/"
        },
        "id": "IPZcKBaAcwx2",
        "outputId": "000028b7-7380-4e78-9bb2-fadbb7480d7e"
      },
      "execution_count": null,
      "outputs": [
        {
          "output_type": "execute_result",
          "data": {
            "text/plain": [
              "{'A', 'B', 'C'}"
            ]
          },
          "metadata": {},
          "execution_count": 11
        }
      ]
    },
    {
      "cell_type": "code",
      "source": [
        "# You can perform a variety of operations using sets\n",
        "\n",
        "# Typecasting when you convert a list to set\n",
        "set(list_example)\n",
        "\n",
        "# difference\n",
        "# set1.difference(set2)\n",
        "\n",
        "# union\n",
        "# set1.union(set2)\n",
        "\n",
        "# intersection\n",
        "# set1.intersection(set2)\n",
        "\n",
        "# issubset\n",
        "\n",
        "# issuperset"
      ],
      "metadata": {
        "colab": {
          "base_uri": "https://localhost:8080/"
        },
        "id": "lge5dRDihMSQ",
        "outputId": "4806a374-d6a1-40ab-f4c4-e5d197bf54ec"
      },
      "execution_count": null,
      "outputs": [
        {
          "output_type": "execute_result",
          "data": {
            "text/plain": [
              "{5, 6, 7, 8}"
            ]
          },
          "metadata": {},
          "execution_count": 12
        }
      ]
    },
    {
      "cell_type": "markdown",
      "source": [
        "# New Section"
      ],
      "metadata": {
        "id": "R0p6ZmNGiVAi"
      }
    },
    {
      "cell_type": "code",
      "source": [
        ""
      ],
      "metadata": {
        "id": "8W1bfS7MhZ1e"
      },
      "execution_count": null,
      "outputs": []
    }
  ]
}