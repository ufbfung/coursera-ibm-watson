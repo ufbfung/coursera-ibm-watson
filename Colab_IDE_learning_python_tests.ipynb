{
  "nbformat": 4,
  "nbformat_minor": 0,
  "metadata": {
    "colab": {
      "name": "Coursera-learning-python-tests.ipynb",
      "provenance": [],
      "authorship_tag": "ABX9TyOJjOTiiJxTC9dby+/UzzfK",
      "include_colab_link": true
    },
    "kernelspec": {
      "name": "python3",
      "display_name": "Python 3"
    },
    "language_info": {
      "name": "python"
    }
  },
  "cells": [
    {
      "cell_type": "markdown",
      "metadata": {
        "id": "view-in-github",
        "colab_type": "text"
      },
      "source": [
        "<a href=\"https://colab.research.google.com/github/ufbfung/coursera-ibm-watson/blob/master/Colab_IDE_learning_python_tests.ipynb\" target=\"_parent\"><img src=\"https://colab.research.google.com/assets/colab-badge.svg\" alt=\"Open In Colab\"/></a>"
      ]
    },
    {
      "cell_type": "code",
      "execution_count": null,
      "metadata": {
        "colab": {
          "base_uri": "https://localhost:8080/"
        },
        "id": "iRrYMzItY6As",
        "outputId": "4f162a1a-b547-4f96-b0e7-23d79472caff"
      },
      "outputs": [
        {
          "output_type": "execute_result",
          "data": {
            "text/plain": [
              "{'heartfailure': 374, 'dementia': 474}"
            ]
          },
          "metadata": {},
          "execution_count": 3
        }
      ],
      "source": [
        "data_dictionary_test={\"heartfailure\":374,\"dementia\":474}\n",
        "data_dictionary_test"
      ]
    },
    {
      "cell_type": "code",
      "source": [
        ""
      ],
      "metadata": {
        "id": "PuieHIBJZD8K"
      },
      "execution_count": null,
      "outputs": []
    }
  ]
}