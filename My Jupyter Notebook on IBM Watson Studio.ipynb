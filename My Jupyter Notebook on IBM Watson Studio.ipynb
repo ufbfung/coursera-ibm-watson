{
    "cells": [
        {
            "cell_type": "markdown",
            "metadata": {
                "collapsed": true
            },
            "source": "# My Jupyter Notebook on IBM Watson Studio"
        },
        {
            "cell_type": "markdown",
            "metadata": {},
            "source": "**Brian Fung**\nHealth Data Architect"
        },
        {
            "cell_type": "markdown",
            "metadata": {},
            "source": "*I am interested in data science because I'd like to apply my healthcare background with these new skills to solve healthcare issues.*"
        },
        {
            "cell_type": "markdown",
            "metadata": {},
            "source": "### The following code will perform a simple addition calculation of two numbers"
        },
        {
            "cell_type": "code",
            "execution_count": 5,
            "metadata": {},
            "outputs": [
                {
                    "data": {
                        "text/plain": "2"
                    },
                    "execution_count": 5,
                    "metadata": {},
                    "output_type": "execute_result"
                }
            ],
            "source": "1+1"
        },
        {
            "cell_type": "markdown",
            "metadata": {},
            "source": "|Skills to Learn|Resource|\n|---|---|\n|Data Science|Coursera|\n|Python|Coursera|\n|SQL|Coursera|\n|R|EdX|\n\nUseful links\n- [Coursera](https://www.coursera.org/)\n- [EdX](https://www.edx.org/)"
        },
        {
            "cell_type": "code",
            "execution_count": null,
            "metadata": {},
            "outputs": [],
            "source": ""
        }
    ],
    "metadata": {
        "kernelspec": {
            "display_name": "Python 3.9",
            "language": "python",
            "name": "python3"
        },
        "language_info": {
            "codemirror_mode": {
                "name": "ipython",
                "version": 3
            },
            "file_extension": ".py",
            "mimetype": "text/x-python",
            "name": "python",
            "nbconvert_exporter": "python",
            "pygments_lexer": "ipython3",
            "version": "3.9.12"
        }
    },
    "nbformat": 4,
    "nbformat_minor": 1
}